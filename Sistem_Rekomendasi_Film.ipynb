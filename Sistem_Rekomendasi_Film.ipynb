{
  "cells": [
    {
      "cell_type": "markdown",
      "metadata": {
        "id": "35UXVtPNWv2h"
      },
      "source": [
        "# Import Library"
      ]
    },
    {
      "cell_type": "code",
      "execution_count": 1,
      "metadata": {
        "id": "YFdJdvVMRQiT"
      },
      "outputs": [],
      "source": [
        "import numpy as np\n",
        "import pandas as pd\n",
        "import pickle\n",
        "\n",
        "from ast import literal_eval\n",
        "from sklearn.feature_extraction.text import TfidfVectorizer, CountVectorizer\n",
        "from sklearn.metrics.pairwise import linear_kernel, cosine_similarity"
      ]
    },
    {
      "cell_type": "markdown",
      "metadata": {
        "id": "iXWcNbaoW2kU"
      },
      "source": [
        "# Import Data"
      ]
    },
    {
      "cell_type": "code",
      "execution_count": 2,
      "metadata": {
        "colab": {
          "base_uri": "https://localhost:8080/",
          "height": 786
        },
        "id": "F2kLDAtpWhX1",
        "outputId": "3b925cff-3188-4a11-c122-db6e48393d69"
      },
      "outputs": [
        {
          "name": "stderr",
          "output_type": "stream",
          "text": [
            "c:\\Users\\abiza\\anaconda3\\lib\\site-packages\\IPython\\core\\interactiveshell.py:3165: DtypeWarning: Columns (10) have mixed types.Specify dtype option on import or set low_memory=False.\n",
            "  has_raised = await self.run_ast_nodes(code_ast.body, cell_name,\n"
          ]
        },
        {
          "data": {
            "text/html": [
              "<div><div id=959d372f-f98c-455b-b3bb-ee16ba8a7b8d style=\"display:none; background-color:#9D6CFF; color:white; width:200px; height:30px; padding-left:5px; border-radius:4px; flex-direction:row; justify-content:space-around; align-items:center;\" onmouseover=\"this.style.backgroundColor='#BA9BF8'\" onmouseout=\"this.style.backgroundColor='#9D6CFF'\" onclick=\"window.commands?.execute('create-mitosheet-from-dataframe-output');\">See Full Dataframe in Mito</div> <script> if (window.commands.hasCommand('create-mitosheet-from-dataframe-output')) document.getElementById('959d372f-f98c-455b-b3bb-ee16ba8a7b8d').style.display = 'flex' </script> <table border=\"1\" class=\"dataframe\">\n",
              "  <thead>\n",
              "    <tr style=\"text-align: right;\">\n",
              "      <th></th>\n",
              "      <th>adult</th>\n",
              "      <th>belongs_to_collection</th>\n",
              "      <th>budget</th>\n",
              "      <th>genres</th>\n",
              "      <th>homepage</th>\n",
              "      <th>id</th>\n",
              "      <th>imdb_id</th>\n",
              "      <th>original_language</th>\n",
              "      <th>original_title</th>\n",
              "      <th>overview</th>\n",
              "      <th>...</th>\n",
              "      <th>release_date</th>\n",
              "      <th>revenue</th>\n",
              "      <th>runtime</th>\n",
              "      <th>spoken_languages</th>\n",
              "      <th>status</th>\n",
              "      <th>tagline</th>\n",
              "      <th>title</th>\n",
              "      <th>video</th>\n",
              "      <th>vote_average</th>\n",
              "      <th>vote_count</th>\n",
              "    </tr>\n",
              "  </thead>\n",
              "  <tbody>\n",
              "    <tr>\n",
              "      <th>0</th>\n",
              "      <td>False</td>\n",
              "      <td>{'id': 10194, 'name': 'Toy Story Collection', 'poster_path': '/7G9915LfUQ2lVfwMEEhDsn3kT4B.jpg', 'backdrop_path': '/9FBwqcd9IRruEDUrTdcaafOMKUq.jpg'}</td>\n",
              "      <td>30000000</td>\n",
              "      <td>[{'id': 16, 'name': 'Animation'}, {'id': 35, 'name': 'Comedy'}, {'id': 10751, 'name': 'Family'}]</td>\n",
              "      <td>http://toystory.disney.com/toy-story</td>\n",
              "      <td>862</td>\n",
              "      <td>tt0114709</td>\n",
              "      <td>en</td>\n",
              "      <td>Toy Story</td>\n",
              "      <td>Led by Woody, Andy's toys live happily in his room until Andy's birthday brings Buzz Lightyear onto the scene. Afraid of losing his place in Andy's heart, Woody plots against Buzz. But when circumstances separate Buzz and Woody from their owner, the duo eventually learns to put aside their differences.</td>\n",
              "      <td>...</td>\n",
              "      <td>1995-10-30</td>\n",
              "      <td>373554033.0</td>\n",
              "      <td>81.0</td>\n",
              "      <td>[{'iso_639_1': 'en', 'name': 'English'}]</td>\n",
              "      <td>Released</td>\n",
              "      <td>NaN</td>\n",
              "      <td>Toy Story</td>\n",
              "      <td>False</td>\n",
              "      <td>7.7</td>\n",
              "      <td>5415.0</td>\n",
              "    </tr>\n",
              "    <tr>\n",
              "      <th>1</th>\n",
              "      <td>False</td>\n",
              "      <td>NaN</td>\n",
              "      <td>65000000</td>\n",
              "      <td>[{'id': 12, 'name': 'Adventure'}, {'id': 14, 'name': 'Fantasy'}, {'id': 10751, 'name': 'Family'}]</td>\n",
              "      <td>NaN</td>\n",
              "      <td>8844</td>\n",
              "      <td>tt0113497</td>\n",
              "      <td>en</td>\n",
              "      <td>Jumanji</td>\n",
              "      <td>When siblings Judy and Peter discover an enchanted board game that opens the door to a magical world, they unwittingly invite Alan -- an adult who's been trapped inside the game for 26 years -- into their living room. Alan's only hope for freedom is to finish the game, which proves risky as all three find themselves running from giant rhinoceroses, evil monkeys and other terrifying creatures.</td>\n",
              "      <td>...</td>\n",
              "      <td>1995-12-15</td>\n",
              "      <td>262797249.0</td>\n",
              "      <td>104.0</td>\n",
              "      <td>[{'iso_639_1': 'en', 'name': 'English'}, {'iso_639_1': 'fr', 'name': 'Français'}]</td>\n",
              "      <td>Released</td>\n",
              "      <td>Roll the dice and unleash the excitement!</td>\n",
              "      <td>Jumanji</td>\n",
              "      <td>False</td>\n",
              "      <td>6.9</td>\n",
              "      <td>2413.0</td>\n",
              "    </tr>\n",
              "    <tr>\n",
              "      <th>2</th>\n",
              "      <td>False</td>\n",
              "      <td>{'id': 119050, 'name': 'Grumpy Old Men Collection', 'poster_path': '/nLvUdqgPgm3F85NMCii9gVFUcet.jpg', 'backdrop_path': '/hypTnLot2z8wpFS7qwsQHW1uV8u.jpg'}</td>\n",
              "      <td>0</td>\n",
              "      <td>[{'id': 10749, 'name': 'Romance'}, {'id': 35, 'name': 'Comedy'}]</td>\n",
              "      <td>NaN</td>\n",
              "      <td>15602</td>\n",
              "      <td>tt0113228</td>\n",
              "      <td>en</td>\n",
              "      <td>Grumpier Old Men</td>\n",
              "      <td>A family wedding reignites the ancient feud between next-door neighbors and fishing buddies John and Max. Meanwhile, a sultry Italian divorcée opens a restaurant at the local bait shop, alarming the locals who worry she'll scare the fish away. But she's less interested in seafood than she is in cooking up a hot time with Max.</td>\n",
              "      <td>...</td>\n",
              "      <td>1995-12-22</td>\n",
              "      <td>0.0</td>\n",
              "      <td>101.0</td>\n",
              "      <td>[{'iso_639_1': 'en', 'name': 'English'}]</td>\n",
              "      <td>Released</td>\n",
              "      <td>Still Yelling. Still Fighting. Still Ready for Love.</td>\n",
              "      <td>Grumpier Old Men</td>\n",
              "      <td>False</td>\n",
              "      <td>6.5</td>\n",
              "      <td>92.0</td>\n",
              "    </tr>\n",
              "    <tr>\n",
              "      <th>3</th>\n",
              "      <td>False</td>\n",
              "      <td>NaN</td>\n",
              "      <td>16000000</td>\n",
              "      <td>[{'id': 35, 'name': 'Comedy'}, {'id': 18, 'name': 'Drama'}, {'id': 10749, 'name': 'Romance'}]</td>\n",
              "      <td>NaN</td>\n",
              "      <td>31357</td>\n",
              "      <td>tt0114885</td>\n",
              "      <td>en</td>\n",
              "      <td>Waiting to Exhale</td>\n",
              "      <td>Cheated on, mistreated and stepped on, the women are holding their breath, waiting for the elusive \"good man\" to break a string of less-than-stellar lovers. Friends and confidants Vannah, Bernie, Glo and Robin talk it all out, determined to find a better way to breathe.</td>\n",
              "      <td>...</td>\n",
              "      <td>1995-12-22</td>\n",
              "      <td>81452156.0</td>\n",
              "      <td>127.0</td>\n",
              "      <td>[{'iso_639_1': 'en', 'name': 'English'}]</td>\n",
              "      <td>Released</td>\n",
              "      <td>Friends are the people who let you be yourself... and never let you forget it.</td>\n",
              "      <td>Waiting to Exhale</td>\n",
              "      <td>False</td>\n",
              "      <td>6.1</td>\n",
              "      <td>34.0</td>\n",
              "    </tr>\n",
              "    <tr>\n",
              "      <th>4</th>\n",
              "      <td>False</td>\n",
              "      <td>{'id': 96871, 'name': 'Father of the Bride Collection', 'poster_path': '/nts4iOmNnq7GNicycMJ9pSAn204.jpg', 'backdrop_path': '/7qwE57OVZmMJChBpLEbJEmzUydk.jpg'}</td>\n",
              "      <td>0</td>\n",
              "      <td>[{'id': 35, 'name': 'Comedy'}]</td>\n",
              "      <td>NaN</td>\n",
              "      <td>11862</td>\n",
              "      <td>tt0113041</td>\n",
              "      <td>en</td>\n",
              "      <td>Father of the Bride Part II</td>\n",
              "      <td>Just when George Banks has recovered from his daughter's wedding, he receives the news that she's pregnant ... and that George's wife, Nina, is expecting too. He was planning on selling their home, but that's a plan that -- like George -- will have to change with the arrival of both a grandchild and a kid of his own.</td>\n",
              "      <td>...</td>\n",
              "      <td>1995-02-10</td>\n",
              "      <td>76578911.0</td>\n",
              "      <td>106.0</td>\n",
              "      <td>[{'iso_639_1': 'en', 'name': 'English'}]</td>\n",
              "      <td>Released</td>\n",
              "      <td>Just When His World Is Back To Normal... He's In For The Surprise Of His Life!</td>\n",
              "      <td>Father of the Bride Part II</td>\n",
              "      <td>False</td>\n",
              "      <td>5.7</td>\n",
              "      <td>173.0</td>\n",
              "    </tr>\n",
              "  </tbody>\n",
              "</table></div>"
            ],
            "text/plain": [
              "   adult                              belongs_to_collection    budget  \\\n",
              "0  False  {'id': 10194, 'name': 'Toy Story Collection', ...  30000000   \n",
              "1  False                                                NaN  65000000   \n",
              "2  False  {'id': 119050, 'name': 'Grumpy Old Men Collect...         0   \n",
              "3  False                                                NaN  16000000   \n",
              "4  False  {'id': 96871, 'name': 'Father of the Bride Col...         0   \n",
              "\n",
              "                                              genres  \\\n",
              "0  [{'id': 16, 'name': 'Animation'}, {'id': 35, '...   \n",
              "1  [{'id': 12, 'name': 'Adventure'}, {'id': 14, '...   \n",
              "2  [{'id': 10749, 'name': 'Romance'}, {'id': 35, ...   \n",
              "3  [{'id': 35, 'name': 'Comedy'}, {'id': 18, 'nam...   \n",
              "4                     [{'id': 35, 'name': 'Comedy'}]   \n",
              "\n",
              "                               homepage     id    imdb_id original_language  \\\n",
              "0  http://toystory.disney.com/toy-story    862  tt0114709                en   \n",
              "1                                   NaN   8844  tt0113497                en   \n",
              "2                                   NaN  15602  tt0113228                en   \n",
              "3                                   NaN  31357  tt0114885                en   \n",
              "4                                   NaN  11862  tt0113041                en   \n",
              "\n",
              "                original_title  \\\n",
              "0                    Toy Story   \n",
              "1                      Jumanji   \n",
              "2             Grumpier Old Men   \n",
              "3            Waiting to Exhale   \n",
              "4  Father of the Bride Part II   \n",
              "\n",
              "                                            overview  ... release_date  \\\n",
              "0  Led by Woody, Andy's toys live happily in his ...  ...   1995-10-30   \n",
              "1  When siblings Judy and Peter discover an encha...  ...   1995-12-15   \n",
              "2  A family wedding reignites the ancient feud be...  ...   1995-12-22   \n",
              "3  Cheated on, mistreated and stepped on, the wom...  ...   1995-12-22   \n",
              "4  Just when George Banks has recovered from his ...  ...   1995-02-10   \n",
              "\n",
              "       revenue runtime                                   spoken_languages  \\\n",
              "0  373554033.0    81.0           [{'iso_639_1': 'en', 'name': 'English'}]   \n",
              "1  262797249.0   104.0  [{'iso_639_1': 'en', 'name': 'English'}, {'iso...   \n",
              "2          0.0   101.0           [{'iso_639_1': 'en', 'name': 'English'}]   \n",
              "3   81452156.0   127.0           [{'iso_639_1': 'en', 'name': 'English'}]   \n",
              "4   76578911.0   106.0           [{'iso_639_1': 'en', 'name': 'English'}]   \n",
              "\n",
              "     status                                            tagline  \\\n",
              "0  Released                                                NaN   \n",
              "1  Released          Roll the dice and unleash the excitement!   \n",
              "2  Released  Still Yelling. Still Fighting. Still Ready for...   \n",
              "3  Released  Friends are the people who let you be yourself...   \n",
              "4  Released  Just When His World Is Back To Normal... He's ...   \n",
              "\n",
              "                         title  video vote_average vote_count  \n",
              "0                    Toy Story  False          7.7     5415.0  \n",
              "1                      Jumanji  False          6.9     2413.0  \n",
              "2             Grumpier Old Men  False          6.5       92.0  \n",
              "3            Waiting to Exhale  False          6.1       34.0  \n",
              "4  Father of the Bride Part II  False          5.7      173.0  \n",
              "\n",
              "[5 rows x 24 columns]"
            ]
          },
          "execution_count": 2,
          "metadata": {},
          "output_type": "execute_result"
        }
      ],
      "source": [
        "meta = pd.read_csv('movies_metadata.csv')\n",
        "meta.head()"
      ]
    },
    {
      "cell_type": "code",
      "execution_count": 3,
      "metadata": {
        "colab": {
          "base_uri": "https://localhost:8080/",
          "height": 206
        },
        "id": "I4EgHxHRTQrc",
        "outputId": "6f9af903-ab17-456c-9d8a-4ed4ffe67d6d"
      },
      "outputs": [
        {
          "data": {
            "text/html": [
              "<div><div id=906729f6-882f-4b59-871b-c2ddb77f1990 style=\"display:none; background-color:#9D6CFF; color:white; width:200px; height:30px; padding-left:5px; border-radius:4px; flex-direction:row; justify-content:space-around; align-items:center;\" onmouseover=\"this.style.backgroundColor='#BA9BF8'\" onmouseout=\"this.style.backgroundColor='#9D6CFF'\" onclick=\"window.commands?.execute('create-mitosheet-from-dataframe-output');\">See Full Dataframe in Mito</div> <script> if (window.commands.hasCommand('create-mitosheet-from-dataframe-output')) document.getElementById('906729f6-882f-4b59-871b-c2ddb77f1990').style.display = 'flex' </script> <table border=\"1\" class=\"dataframe\">\n",
              "  <thead>\n",
              "    <tr style=\"text-align: right;\">\n",
              "      <th></th>\n",
              "      <th>movieId</th>\n",
              "      <th>imdbId</th>\n",
              "      <th>tmdbId</th>\n",
              "    </tr>\n",
              "  </thead>\n",
              "  <tbody>\n",
              "    <tr>\n",
              "      <th>0</th>\n",
              "      <td>1</td>\n",
              "      <td>114709</td>\n",
              "      <td>862.0</td>\n",
              "    </tr>\n",
              "    <tr>\n",
              "      <th>1</th>\n",
              "      <td>2</td>\n",
              "      <td>113497</td>\n",
              "      <td>8844.0</td>\n",
              "    </tr>\n",
              "    <tr>\n",
              "      <th>2</th>\n",
              "      <td>3</td>\n",
              "      <td>113228</td>\n",
              "      <td>15602.0</td>\n",
              "    </tr>\n",
              "    <tr>\n",
              "      <th>3</th>\n",
              "      <td>4</td>\n",
              "      <td>114885</td>\n",
              "      <td>31357.0</td>\n",
              "    </tr>\n",
              "    <tr>\n",
              "      <th>4</th>\n",
              "      <td>5</td>\n",
              "      <td>113041</td>\n",
              "      <td>11862.0</td>\n",
              "    </tr>\n",
              "  </tbody>\n",
              "</table></div>"
            ],
            "text/plain": [
              "   movieId  imdbId   tmdbId\n",
              "0        1  114709    862.0\n",
              "1        2  113497   8844.0\n",
              "2        3  113228  15602.0\n",
              "3        4  114885  31357.0\n",
              "4        5  113041  11862.0"
            ]
          },
          "execution_count": 3,
          "metadata": {},
          "output_type": "execute_result"
        }
      ],
      "source": [
        "links_small = pd.read_csv('links_small.csv')\n",
        "links_small.head()"
      ]
    },
    {
      "cell_type": "markdown",
      "metadata": {
        "id": "ney7QF5KXLKS"
      },
      "source": [
        "# Preprocessing"
      ]
    },
    {
      "cell_type": "code",
      "execution_count": 4,
      "metadata": {
        "colab": {
          "base_uri": "https://localhost:8080/",
          "height": 337
        },
        "id": "q8LRAKfncuLh",
        "outputId": "c0fe590d-398e-4676-a90a-852bd4afe244"
      },
      "outputs": [
        {
          "name": "stderr",
          "output_type": "stream",
          "text": [
            "NumExpr defaulting to 4 threads.\n"
          ]
        },
        {
          "data": {
            "text/html": [
              "<div><div id=a9bedd85-2f6f-49f0-8de4-3341a107f00a style=\"display:none; background-color:#9D6CFF; color:white; width:200px; height:30px; padding-left:5px; border-radius:4px; flex-direction:row; justify-content:space-around; align-items:center;\" onmouseover=\"this.style.backgroundColor='#BA9BF8'\" onmouseout=\"this.style.backgroundColor='#9D6CFF'\" onclick=\"window.commands?.execute('create-mitosheet-from-dataframe-output');\">See Full Dataframe in Mito</div> <script> if (window.commands.hasCommand('create-mitosheet-from-dataframe-output')) document.getElementById('a9bedd85-2f6f-49f0-8de4-3341a107f00a').style.display = 'flex' </script> <table border=\"1\" class=\"dataframe\">\n",
              "  <thead>\n",
              "    <tr style=\"text-align: right;\">\n",
              "      <th></th>\n",
              "      <th>id</th>\n",
              "      <th>imdb_id</th>\n",
              "      <th>title</th>\n",
              "      <th>overview</th>\n",
              "      <th>tagline</th>\n",
              "      <th>genres</th>\n",
              "    </tr>\n",
              "  </thead>\n",
              "  <tbody>\n",
              "    <tr>\n",
              "      <th>18757</th>\n",
              "      <td>55245</td>\n",
              "      <td>tt1699720</td>\n",
              "      <td>!Women Art Revolution</td>\n",
              "      <td>Through intimate interviews, provocative art, and rare, historical film and video footage, this feature documentary reveals how art addressing political consequences of discrimination and violence, the Feminist Art Revolution radically transformed the art and culture of our times.</td>\n",
              "      <td>40 years in the making!</td>\n",
              "      <td>[Documentary]</td>\n",
              "    </tr>\n",
              "    <tr>\n",
              "      <th>30961</th>\n",
              "      <td>41371</td>\n",
              "      <td>tt1637976</td>\n",
              "      <td>#1 Cheerleader Camp</td>\n",
              "      <td>A pair of horny college guys get summer jobs at a sexy cheerleader camp.</td>\n",
              "      <td>Grab your spirit sticks!</td>\n",
              "      <td>[Comedy, Drama]</td>\n",
              "    </tr>\n",
              "    <tr>\n",
              "      <th>36153</th>\n",
              "      <td>301325</td>\n",
              "      <td>tt3526286</td>\n",
              "      <td>#Horror</td>\n",
              "      <td>Inspired by actual events, a group of 12 year old girls face a night of horror when the compulsive addiction of an online social media game turns a moment of cyber bullying into a night of insanity.</td>\n",
              "      <td>Death is trending.</td>\n",
              "      <td>[Drama, Mystery, Horror, Thriller]</td>\n",
              "    </tr>\n",
              "    <tr>\n",
              "      <th>23501</th>\n",
              "      <td>267752</td>\n",
              "      <td>tt3060338</td>\n",
              "      <td>#chicagoGirl</td>\n",
              "      <td>From her childhood bedroom in the Chicago suburbs, an American teenage girl uses social media to run the revolution in Syria. Armed with Facebook, Twitter, Skype and cameraphones, she helps her social network in Damascus and Homs braves snipers and shelling in the streets and the world the human rights atrocities of one of the most brutal dictators. But as the revolution rages on, everyone in the network must decide what is the most effective way to fight a dictator: social media or AK-47s.</td>\n",
              "      <td>The Social Network Takes on a Dictator</td>\n",
              "      <td>[Documentary]</td>\n",
              "    </tr>\n",
              "    <tr>\n",
              "      <th>15775</th>\n",
              "      <td>4204</td>\n",
              "      <td>tt1024733</td>\n",
              "      <td>$5 a Day</td>\n",
              "      <td>After being released from jail, the son of a con man joins his father on the road.</td>\n",
              "      <td>Relationships don't come cheap!</td>\n",
              "      <td>[Drama, Comedy]</td>\n",
              "    </tr>\n",
              "  </tbody>\n",
              "</table></div>"
            ],
            "text/plain": [
              "           id    imdb_id                  title  \\\n",
              "18757   55245  tt1699720  !Women Art Revolution   \n",
              "30961   41371  tt1637976    #1 Cheerleader Camp   \n",
              "36153  301325  tt3526286                #Horror   \n",
              "23501  267752  tt3060338           #chicagoGirl   \n",
              "15775    4204  tt1024733               $5 a Day   \n",
              "\n",
              "                                                overview  \\\n",
              "18757  Through intimate interviews, provocative art, ...   \n",
              "30961  A pair of horny college guys get summer jobs a...   \n",
              "36153  Inspired by actual events, a group of 12 year ...   \n",
              "23501  From her childhood bedroom in the Chicago subu...   \n",
              "15775  After being released from jail, the son of a c...   \n",
              "\n",
              "                                      tagline  \\\n",
              "18757                 40 years in the making!   \n",
              "30961                Grab your spirit sticks!   \n",
              "36153                      Death is trending.   \n",
              "23501  The Social Network Takes on a Dictator   \n",
              "15775         Relationships don't come cheap!   \n",
              "\n",
              "                                   genres  \n",
              "18757                       [Documentary]  \n",
              "30961                     [Comedy, Drama]  \n",
              "36153  [Drama, Mystery, Horror, Thriller]  \n",
              "23501                       [Documentary]  \n",
              "15775                     [Drama, Comedy]  "
            ]
          },
          "execution_count": 4,
          "metadata": {},
          "output_type": "execute_result"
        }
      ],
      "source": [
        "meta = meta[['id', 'imdb_id', 'title', 'overview', 'tagline', 'genres']].dropna().drop_duplicates(subset='title', keep='first')\n",
        "meta['id'] = meta['id'].astype('int')\n",
        "meta['genres'] = meta['genres'].fillna('[]').apply(literal_eval).apply(lambda x: [i['name'] for i in x] if isinstance(x, list) else [])\n",
        "meta = meta.sort_values('title')\n",
        "\n",
        "meta.head()"
      ]
    },
    {
      "cell_type": "code",
      "execution_count": 5,
      "metadata": {
        "colab": {
          "base_uri": "https://localhost:8080/"
        },
        "id": "f3GbpmRuePbY",
        "outputId": "5bf1d0e6-eb4f-432c-9df9-1bf397011dc4"
      },
      "outputs": [
        {
          "data": {
            "text/plain": [
              "0      862\n",
              "1     8844\n",
              "2    15602\n",
              "3    31357\n",
              "4    11862\n",
              "Name: tmdbId, dtype: int32"
            ]
          },
          "execution_count": 5,
          "metadata": {},
          "output_type": "execute_result"
        }
      ],
      "source": [
        "links_small = links_small[['tmdbId']].dropna()\n",
        "links_small = links_small['tmdbId'].astype('int')\n",
        "\n",
        "links_small.head()"
      ]
    },
    {
      "cell_type": "code",
      "execution_count": 6,
      "metadata": {
        "colab": {
          "base_uri": "https://localhost:8080/",
          "height": 337
        },
        "id": "RJ6Ipe3MbbFf",
        "outputId": "9599fa94-4d12-4006-f114-3ecd083e25bd"
      },
      "outputs": [
        {
          "data": {
            "text/html": [
              "<div><div id=28582b31-8d24-4bde-a847-50d4d408b619 style=\"display:none; background-color:#9D6CFF; color:white; width:200px; height:30px; padding-left:5px; border-radius:4px; flex-direction:row; justify-content:space-around; align-items:center;\" onmouseover=\"this.style.backgroundColor='#BA9BF8'\" onmouseout=\"this.style.backgroundColor='#9D6CFF'\" onclick=\"window.commands?.execute('create-mitosheet-from-dataframe-output');\">See Full Dataframe in Mito</div> <script> if (window.commands.hasCommand('create-mitosheet-from-dataframe-output')) document.getElementById('28582b31-8d24-4bde-a847-50d4d408b619').style.display = 'flex' </script> <table border=\"1\" class=\"dataframe\">\n",
              "  <thead>\n",
              "    <tr style=\"text-align: right;\">\n",
              "      <th></th>\n",
              "      <th>id</th>\n",
              "      <th>imdb_id</th>\n",
              "      <th>title</th>\n",
              "      <th>overview</th>\n",
              "      <th>tagline</th>\n",
              "      <th>genres</th>\n",
              "    </tr>\n",
              "  </thead>\n",
              "  <tbody>\n",
              "    <tr>\n",
              "      <th>13938</th>\n",
              "      <td>53830</td>\n",
              "      <td>tt0024805</td>\n",
              "      <td>'Neath the Arizona Skies</td>\n",
              "      <td>Chris Morrell, the guardian of half-Indian girl Nina, is helping her find her missing white father. so she can cash in on her late mother's oil lease. Outlaw Sam Black is after the girl and her father as well. Besides dealing with the Black gang, Morrell has to find another robber, Jim Moore, who switches clothes with him after he finds Chris unconscious from a fight with Sam Black. Along the way, he meets a lady who's the sister of Jim Moore, another bad hombre who's in cahoots with Jim Moore, and an old friend who takes in Nina and helps Chris locate Nina's father and fight off the various desperadoes</td>\n",
              "      <td>Hair-trigger Action! Hair-Trigger Action! (reissue poster)</td>\n",
              "      <td>[Action, Western]</td>\n",
              "    </tr>\n",
              "    <tr>\n",
              "      <th>13874</th>\n",
              "      <td>19913</td>\n",
              "      <td>tt1022603</td>\n",
              "      <td>(500) Days of Summer</td>\n",
              "      <td>Tom (Joseph Gordon-Levitt), greeting-card writer and hopeless romantic, is caught completely off-guard when his girlfriend, Summer (Zooey Deschanel), suddenly dumps him. He reflects on their 500 days together to try to figure out where their love affair went sour, and in doing so, Tom rediscovers his true passions in life.</td>\n",
              "      <td>It was almost like falling in love.</td>\n",
              "      <td>[Comedy, Drama, Romance]</td>\n",
              "    </tr>\n",
              "    <tr>\n",
              "      <th>3721</th>\n",
              "      <td>8420</td>\n",
              "      <td>tt0049189</td>\n",
              "      <td>...And God Created Woman</td>\n",
              "      <td>Juliette Hardy is sexual dynamite, and has the men of a French coastal town panting. But Antoine, the only man who affects her likewise, wouldn't dream of settling down with a woman his friends consider the town tramp.</td>\n",
              "      <td>...but the devil invented Brigitte Bardot!</td>\n",
              "      <td>[Drama, Romance]</td>\n",
              "    </tr>\n",
              "    <tr>\n",
              "      <th>6509</th>\n",
              "      <td>9051</td>\n",
              "      <td>tt0078721</td>\n",
              "      <td>10</td>\n",
              "      <td>A Hollywood songwriter goes through a mid-life crisis and becomes infatuated with a sexy blonde newlywed.</td>\n",
              "      <td>The funniest, sexiest midlife crisis in movie history.</td>\n",
              "      <td>[Comedy, Romance]</td>\n",
              "    </tr>\n",
              "    <tr>\n",
              "      <th>36251</th>\n",
              "      <td>333371</td>\n",
              "      <td>tt1179933</td>\n",
              "      <td>10 Cloverfield Lane</td>\n",
              "      <td>After a car accident, Michelle awakens to find herself in a mysterious bunker with two men named Howard and Emmett. Howard offers her a pair of crutches to help her remain mobile with her leg injury sustained from the car crash and tells her to \"get good on those\" before leaving the bunker. She has been given the information that there has been an alien attack and the outside world is poisoned. However, Howard and Emmett's intentions soon become questionable and Michelle is faced with a question: Is it better in here or out there?</td>\n",
              "      <td>Monsters come in many forms.</td>\n",
              "      <td>[Thriller, Science Fiction, Drama]</td>\n",
              "    </tr>\n",
              "  </tbody>\n",
              "</table></div>"
            ],
            "text/plain": [
              "           id    imdb_id                     title  \\\n",
              "13938   53830  tt0024805  'Neath the Arizona Skies   \n",
              "13874   19913  tt1022603      (500) Days of Summer   \n",
              "3721     8420  tt0049189  ...And God Created Woman   \n",
              "6509     9051  tt0078721                        10   \n",
              "36251  333371  tt1179933       10 Cloverfield Lane   \n",
              "\n",
              "                                                overview  \\\n",
              "13938  Chris Morrell, the guardian of half-Indian gir...   \n",
              "13874  Tom (Joseph Gordon-Levitt), greeting-card writ...   \n",
              "3721   Juliette Hardy is sexual dynamite, and has the...   \n",
              "6509   A Hollywood songwriter goes through a mid-life...   \n",
              "36251  After a car accident, Michelle awakens to find...   \n",
              "\n",
              "                                                 tagline  \\\n",
              "13938  Hair-trigger Action! Hair-Trigger Action! (rei...   \n",
              "13874                It was almost like falling in love.   \n",
              "3721          ...but the devil invented Brigitte Bardot!   \n",
              "6509   The funniest, sexiest midlife crisis in movie ...   \n",
              "36251                       Monsters come in many forms.   \n",
              "\n",
              "                                   genres  \n",
              "13938                   [Action, Western]  \n",
              "13874            [Comedy, Drama, Romance]  \n",
              "3721                     [Drama, Romance]  \n",
              "6509                    [Comedy, Romance]  \n",
              "36251  [Thriller, Science Fiction, Drama]  "
            ]
          },
          "execution_count": 6,
          "metadata": {},
          "output_type": "execute_result"
        }
      ],
      "source": [
        "smd = meta[meta['id'].isin(links_small)]\n",
        "\n",
        "smd.head()"
      ]
    },
    {
      "cell_type": "markdown",
      "metadata": {
        "id": "bDChD5tVXOaM"
      },
      "source": [
        "# Feature Extraction"
      ]
    },
    {
      "cell_type": "code",
      "execution_count": 7,
      "metadata": {
        "colab": {
          "base_uri": "https://localhost:8080/"
        },
        "id": "hSm_ndUyaeTC",
        "outputId": "87d90eaa-c8fc-4762-c17b-d217e2eaba14"
      },
      "outputs": [
        {
          "name": "stderr",
          "output_type": "stream",
          "text": [
            "<ipython-input-7-362f3d9a1c27>:1: SettingWithCopyWarning: \n",
            "A value is trying to be set on a copy of a slice from a DataFrame.\n",
            "Try using .loc[row_indexer,col_indexer] = value instead\n",
            "\n",
            "See the caveats in the documentation: https://pandas.pydata.org/pandas-docs/stable/user_guide/indexing.html#returning-a-view-versus-a-copy\n",
            "  smd['description'] = smd['overview'] + smd['tagline']\n"
          ]
        }
      ],
      "source": [
        "smd['description'] = smd['overview'] + smd['tagline']"
      ]
    },
    {
      "cell_type": "code",
      "execution_count": 8,
      "metadata": {
        "id": "Y_lYQJhSYHRT"
      },
      "outputs": [],
      "source": [
        "tf = TfidfVectorizer(analyzer='word', ngram_range=(1, 2), min_df=0, stop_words='english')\n",
        "tfidf_matrix = tf.fit_transform(smd['description'])"
      ]
    },
    {
      "cell_type": "code",
      "execution_count": 9,
      "metadata": {
        "colab": {
          "base_uri": "https://localhost:8080/"
        },
        "id": "w_OWY9B7b9Ij",
        "outputId": "8d5cdb0c-35f4-4bff-f9e9-1a2b94265512"
      },
      "outputs": [
        {
          "data": {
            "text/plain": [
              "(6791, 211931)"
            ]
          },
          "execution_count": 9,
          "metadata": {},
          "output_type": "execute_result"
        }
      ],
      "source": [
        "tfidf_matrix.shape"
      ]
    },
    {
      "cell_type": "code",
      "execution_count": 10,
      "metadata": {
        "colab": {
          "base_uri": "https://localhost:8080/"
        },
        "id": "Tu8G_R6xcCXI",
        "outputId": "5fd97eec-e010-44bb-da10-ed02db151cb8"
      },
      "outputs": [
        {
          "data": {
            "text/plain": [
              "array([1.        , 0.        , 0.        , ..., 0.        , 0.00280284,\n",
              "       0.        ])"
            ]
          },
          "execution_count": 10,
          "metadata": {},
          "output_type": "execute_result"
        }
      ],
      "source": [
        "cosine_sim = linear_kernel(tfidf_matrix, tfidf_matrix)\n",
        "cosine_sim[0]"
      ]
    },
    {
      "cell_type": "code",
      "execution_count": 11,
      "metadata": {
        "id": "qhWucH7IcIEJ"
      },
      "outputs": [],
      "source": [
        "smd = smd.reset_index()\n",
        "titles = smd['title']\n",
        "indices = pd.Series(smd.index, index=smd['title'])\n",
        "\n",
        "tmdb_id = smd['id']\n",
        "indices_tmdb_id = pd.Series(smd.index, index=smd['id'])"
      ]
    },
    {
      "cell_type": "markdown",
      "metadata": {
        "id": "30DApwqhYHoB"
      },
      "source": [
        "# Resulted Model"
      ]
    },
    {
      "cell_type": "code",
      "execution_count": 12,
      "metadata": {
        "id": "nnT-Pav-Yjvh"
      },
      "outputs": [],
      "source": [
        "def get_recommendations(title):\n",
        "    idx = indices[title]\n",
        "    sim_scores = list(enumerate(cosine_sim[idx]))\n",
        "    sim_scores = sorted(sim_scores, key=lambda x: x[1], reverse=True)\n",
        "    sim_scores = sim_scores[1:16]\n",
        "    movie_indices = [i[0] for i in sim_scores]\n",
        "    return titles.iloc[movie_indices]\n",
        "\n",
        "def get_recommendations_id(title):\n",
        "    idx = indices[title]\n",
        "    sim_scores = list(enumerate(cosine_sim[idx]))\n",
        "    sim_scores = sorted(sim_scores, key=lambda x: x[1], reverse=True)\n",
        "    sim_scores = sim_scores[1:16]\n",
        "    movie_indices = [i[0] for i in sim_scores]\n",
        "    return tmdb_id.iloc[movie_indices]"
      ]
    },
    {
      "cell_type": "code",
      "execution_count": 13,
      "metadata": {
        "colab": {
          "base_uri": "https://localhost:8080/"
        },
        "id": "cu6hi66PcVs4",
        "outputId": "fc7f92fd-de3c-4171-bc13-81763f04b41c"
      },
      "outputs": [
        {
          "data": {
            "text/plain": [
              "3743                        Pixels\n",
              "2113       Guardians of the Galaxy\n",
              "4566                    Stay Alive\n",
              "3591                         Ouija\n",
              "6711                Wreck-It Ralph\n",
              "1550            Dungeons & Dragons\n",
              "1172               Comfort and Joy\n",
              "6709              Would You Rather\n",
              "2081                 Grandma's Boy\n",
              "5265     The Giant Spider Invasion\n",
              "3703                     Peter Pan\n",
              "4371             Sleeping Dogs Lie\n",
              "6765    Zathura: A Space Adventure\n",
              "6785                      eXistenZ\n",
              "3880                    Quarantine\n",
              "Name: title, dtype: object"
            ]
          },
          "execution_count": 13,
          "metadata": {},
          "output_type": "execute_result"
        }
      ],
      "source": [
        "get_recommendations('Jumanji')"
      ]
    },
    {
      "cell_type": "code",
      "execution_count": 14,
      "metadata": {
        "colab": {
          "base_uri": "https://localhost:8080/"
        },
        "id": "h0PSs-htQDaX",
        "outputId": "d3a784ac-862a-4608-9bcb-bb65c205646e"
      },
      "outputs": [
        {
          "data": {
            "text/plain": [
              "3743    257344\n",
              "2113    118340\n",
              "4566     10069\n",
              "3591    242512\n",
              "6711     82690\n",
              "1550     11849\n",
              "1172     30278\n",
              "6709     97051\n",
              "2081      9900\n",
              "5265     39154\n",
              "3703     10693\n",
              "4371     43673\n",
              "6765      6795\n",
              "6785      1946\n",
              "3880     13812\n",
              "Name: id, dtype: int32"
            ]
          },
          "execution_count": 14,
          "metadata": {},
          "output_type": "execute_result"
        }
      ],
      "source": [
        "get_recommendations_id('Jumanji')"
      ]
    },
    {
      "cell_type": "code",
      "execution_count": 15,
      "metadata": {
        "id": "nQFlZ5bgnN6l"
      },
      "outputs": [
        {
          "data": {
            "text/html": [
              "<div><div id=99544254-dc14-4e6b-926a-63a7b1e05d5c style=\"display:none; background-color:#9D6CFF; color:white; width:200px; height:30px; padding-left:5px; border-radius:4px; flex-direction:row; justify-content:space-around; align-items:center;\" onmouseover=\"this.style.backgroundColor='#BA9BF8'\" onmouseout=\"this.style.backgroundColor='#9D6CFF'\" onclick=\"window.commands?.execute('create-mitosheet-from-dataframe-output');\">See Full Dataframe in Mito</div> <script> if (window.commands.hasCommand('create-mitosheet-from-dataframe-output')) document.getElementById('99544254-dc14-4e6b-926a-63a7b1e05d5c').style.display = 'flex' </script> <table border=\"1\" class=\"dataframe\">\n",
              "  <thead>\n",
              "    <tr style=\"text-align: right;\">\n",
              "      <th></th>\n",
              "      <th>movie_id</th>\n",
              "      <th>title</th>\n",
              "      <th>desc</th>\n",
              "      <th>genres</th>\n",
              "    </tr>\n",
              "  </thead>\n",
              "  <tbody>\n",
              "    <tr>\n",
              "      <th>0</th>\n",
              "      <td>53830</td>\n",
              "      <td>'Neath the Arizona Skies</td>\n",
              "      <td>Chris Morrell, the guardian of half-Indian girl Nina, is helping her find her missing white father. so she can cash in on her late mother's oil lease. Outlaw Sam Black is after the girl and her father as well. Besides dealing with the Black gang, Morrell has to find another robber, Jim Moore, who switches clothes with him after he finds Chris unconscious from a fight with Sam Black. Along the way, he meets a lady who's the sister of Jim Moore, another bad hombre who's in cahoots with Jim Moore, and an old friend who takes in Nina and helps Chris locate Nina's father and fight off the various desperadoesHair-trigger Action! Hair-Trigger Action! (reissue poster)</td>\n",
              "      <td>[Action, Western]</td>\n",
              "    </tr>\n",
              "    <tr>\n",
              "      <th>1</th>\n",
              "      <td>19913</td>\n",
              "      <td>(500) Days of Summer</td>\n",
              "      <td>Tom (Joseph Gordon-Levitt), greeting-card writer and hopeless romantic, is caught completely off-guard when his girlfriend, Summer (Zooey Deschanel), suddenly dumps him. He reflects on their 500 days together to try to figure out where their love affair went sour, and in doing so, Tom rediscovers his true passions in life.It was almost like falling in love.</td>\n",
              "      <td>[Comedy, Drama, Romance]</td>\n",
              "    </tr>\n",
              "    <tr>\n",
              "      <th>2</th>\n",
              "      <td>8420</td>\n",
              "      <td>...And God Created Woman</td>\n",
              "      <td>Juliette Hardy is sexual dynamite, and has the men of a French coastal town panting. But Antoine, the only man who affects her likewise, wouldn't dream of settling down with a woman his friends consider the town tramp....but the devil invented Brigitte Bardot!</td>\n",
              "      <td>[Drama, Romance]</td>\n",
              "    </tr>\n",
              "    <tr>\n",
              "      <th>3</th>\n",
              "      <td>9051</td>\n",
              "      <td>10</td>\n",
              "      <td>A Hollywood songwriter goes through a mid-life crisis and becomes infatuated with a sexy blonde newlywed.The funniest, sexiest midlife crisis in movie history.</td>\n",
              "      <td>[Comedy, Romance]</td>\n",
              "    </tr>\n",
              "    <tr>\n",
              "      <th>4</th>\n",
              "      <td>333371</td>\n",
              "      <td>10 Cloverfield Lane</td>\n",
              "      <td>After a car accident, Michelle awakens to find herself in a mysterious bunker with two men named Howard and Emmett. Howard offers her a pair of crutches to help her remain mobile with her leg injury sustained from the car crash and tells her to \"get good on those\" before leaving the bunker. She has been given the information that there has been an alien attack and the outside world is poisoned. However, Howard and Emmett's intentions soon become questionable and Michelle is faced with a question: Is it better in here or out there?Monsters come in many forms.</td>\n",
              "      <td>[Thriller, Science Fiction, Drama]</td>\n",
              "    </tr>\n",
              "  </tbody>\n",
              "</table></div>"
            ],
            "text/plain": [
              "   movie_id                     title  \\\n",
              "0     53830  'Neath the Arizona Skies   \n",
              "1     19913      (500) Days of Summer   \n",
              "2      8420  ...And God Created Woman   \n",
              "3      9051                        10   \n",
              "4    333371       10 Cloverfield Lane   \n",
              "\n",
              "                                                desc  \\\n",
              "0  Chris Morrell, the guardian of half-Indian gir...   \n",
              "1  Tom (Joseph Gordon-Levitt), greeting-card writ...   \n",
              "2  Juliette Hardy is sexual dynamite, and has the...   \n",
              "3  A Hollywood songwriter goes through a mid-life...   \n",
              "4  After a car accident, Michelle awakens to find...   \n",
              "\n",
              "                               genres  \n",
              "0                   [Action, Western]  \n",
              "1            [Comedy, Drama, Romance]  \n",
              "2                    [Drama, Romance]  \n",
              "3                   [Comedy, Romance]  \n",
              "4  [Thriller, Science Fiction, Drama]  "
            ]
          },
          "execution_count": 15,
          "metadata": {},
          "output_type": "execute_result"
        }
      ],
      "source": [
        "movie_list = smd[['id', 'title', 'description', 'genres']]\n",
        "movie_list.columns = ['movie_id', 'title', 'desc', 'genres']\n",
        "\n",
        "movie_list.head()"
      ]
    },
    {
      "cell_type": "code",
      "execution_count": 16,
      "metadata": {
        "id": "-KPri_tPoYGx"
      },
      "outputs": [],
      "source": [
        "pickle.dump(movie_list, open('movie_list.pkl', 'wb'))"
      ]
    },
    {
      "cell_type": "code",
      "execution_count": 17,
      "metadata": {
        "id": "Gz_8y8Z9oxRW"
      },
      "outputs": [],
      "source": [
        "pickle.dump(cosine_sim, open('similarity.pkl', 'wb'))"
      ]
    }
  ],
  "metadata": {
    "colab": {
      "name": "Sistem Rekomendasi Film.ipynb",
      "provenance": []
    },
    "interpreter": {
      "hash": "70297220ef295ada8510f50a5d679ba21b7f3038be4347b893a7b3fd41f094aa"
    },
    "kernelspec": {
      "display_name": "Python 3.8.8 ('base')",
      "language": "python",
      "name": "python3"
    },
    "language_info": {
      "codemirror_mode": {
        "name": "ipython",
        "version": 3
      },
      "file_extension": ".py",
      "mimetype": "text/x-python",
      "name": "python",
      "nbconvert_exporter": "python",
      "pygments_lexer": "ipython3",
      "version": "3.8.8"
    }
  },
  "nbformat": 4,
  "nbformat_minor": 0
}
